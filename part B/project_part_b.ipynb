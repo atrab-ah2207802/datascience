{
 "cells": [
  {
   "cell_type": "code",
   "execution_count": 3,
   "id": "56c3e684-4002-4d39-ba6a-c0b84e589c6d",
   "metadata": {},
   "outputs": [],
   "source": [
    "from datascience import *\n",
    "import numpy as np"
   ]
  },
  {
   "cell_type": "code",
   "execution_count": 35,
   "id": "12634a2f-dc91-4b71-802a-430f4e4891c2",
   "metadata": {},
   "outputs": [
    {
     "data": {
      "text/html": [
       "<table border=\"1\" class=\"dataframe\">\n",
       "    <thead>\n",
       "        <tr>\n",
       "            <th>report_date</th> <th>report_source</th> <th>report_period</th> <th>ext_massacres_cum</th> <th>killed</th> <th>killed_cum</th> <th>ext_killed</th> <th>ext_killed_cum</th> <th>ext_killed_children_cum</th> <th>ext_killed_women_cum</th> <th>injured_cum</th> <th>ext_injured</th> <th>ext_injured_cum</th> <th>ext_civdef_killed_cum</th> <th>med_killed_cum</th> <th>ext_med_killed_cum</th> <th>press_killed_cum</th> <th>ext_press_killed_cum</th>\n",
       "        </tr>\n",
       "    </thead>\n",
       "    <tbody>\n",
       "        <tr>\n",
       "            <td>2023-10-07 </td> <td>mohtel       </td> <td>24           </td> <td>0                </td> <td>232   </td> <td>232       </td> <td>232       </td> <td>232           </td> <td>0                      </td> <td>0                   </td> <td>1610       </td> <td>1610       </td> <td>1610           </td> <td>0                    </td> <td>6             </td> <td>6                 </td> <td>1               </td> <td>1                   </td>\n",
       "        </tr>\n",
       "        <tr>\n",
       "            <td>2023-10-08 </td> <td>mohtel       </td> <td>24           </td> <td>0                </td> <td>138   </td> <td>370       </td> <td>138       </td> <td>370           </td> <td>78                     </td> <td>41                  </td> <td>1788       </td> <td>178        </td> <td>1788           </td> <td>0                    </td> <td>nan           </td> <td>6                 </td> <td>1               </td> <td>1                   </td>\n",
       "        </tr>\n",
       "        <tr>\n",
       "            <td>2023-10-09 </td> <td>mohtel       </td> <td>24           </td> <td>8                </td> <td>190   </td> <td>560       </td> <td>190       </td> <td>560           </td> <td>91                     </td> <td>61                  </td> <td>2271       </td> <td>483        </td> <td>2271           </td> <td>0                    </td> <td>6             </td> <td>6                 </td> <td>3               </td> <td>3                   </td>\n",
       "        </tr>\n",
       "        <tr>\n",
       "            <td>2023-10-10 </td> <td>mohtel       </td> <td>24           </td> <td>8                </td> <td>340   </td> <td>900       </td> <td>340       </td> <td>900           </td> <td>260                    </td> <td>230                 </td> <td>4000       </td> <td>1729       </td> <td>4000           </td> <td>0                    </td> <td>nan           </td> <td>6                 </td> <td>7               </td> <td>7                   </td>\n",
       "        </tr>\n",
       "        <tr>\n",
       "            <td>2023-10-11 </td> <td>gmotel       </td> <td>24           </td> <td>23               </td> <td>200   </td> <td>1100      </td> <td>200       </td> <td>1100          </td> <td>398                    </td> <td>230                 </td> <td>5184       </td> <td>1184       </td> <td>5184           </td> <td>0                    </td> <td>10            </td> <td>10                </td> <td>nan             </td> <td>7                   </td>\n",
       "        </tr>\n",
       "        <tr>\n",
       "            <td>2023-10-12 </td> <td>mohtel       </td> <td>24           </td> <td>23               </td> <td>317   </td> <td>1417      </td> <td>317       </td> <td>1417          </td> <td>500                    </td> <td>276                 </td> <td>5763       </td> <td>579        </td> <td>5763           </td> <td>0                    </td> <td>11            </td> <td>11                </td> <td>nan             </td> <td>7                   </td>\n",
       "        </tr>\n",
       "        <tr>\n",
       "            <td>2023-10-13 </td> <td>missing      </td> <td>24           </td> <td>23               </td> <td>483   </td> <td>1900      </td> <td>483       </td> <td>1900          </td> <td>500                    </td> <td>392                 </td> <td>nan        </td> <td>1475       </td> <td>7238           </td> <td>0                    </td> <td>11            </td> <td>11                </td> <td>nan             </td> <td>7                   </td>\n",
       "        </tr>\n",
       "        <tr>\n",
       "            <td>2023-10-14 </td> <td>gmotel       </td> <td>24           </td> <td>23               </td> <td>328   </td> <td>2228      </td> <td>328       </td> <td>2228          </td> <td>600                    </td> <td>600                 </td> <td>8714       </td> <td>1476       </td> <td>8714           </td> <td>0                    </td> <td>11            </td> <td>11                </td> <td>nan             </td> <td>7                   </td>\n",
       "        </tr>\n",
       "        <tr>\n",
       "            <td>2023-10-15 </td> <td>gmotel       </td> <td>24           </td> <td>23               </td> <td>442   </td> <td>2670      </td> <td>442       </td> <td>2670          </td> <td>700                    </td> <td>735                 </td> <td>9200       </td> <td>486        </td> <td>9200           </td> <td>0                    </td> <td>nan           </td> <td>11                </td> <td>nan             </td> <td>7                   </td>\n",
       "        </tr>\n",
       "        <tr>\n",
       "            <td>2023-10-16 </td> <td>gmotel       </td> <td>24           </td> <td>371              </td> <td>138   </td> <td>2808      </td> <td>138       </td> <td>2808          </td> <td>853                    </td> <td>936                 </td> <td>10850      </td> <td>1650       </td> <td>10850          </td> <td>7                    </td> <td>37            </td> <td>37                </td> <td>nan             </td> <td>7                   </td>\n",
       "        </tr>\n",
       "    </tbody>\n",
       "</table>\n",
       "<p>... (541 rows omitted)</p>"
      ],
      "text/plain": [
       "report_date | report_source | report_period | ext_massacres_cum | killed | killed_cum | ext_killed | ext_killed_cum | ext_killed_children_cum | ext_killed_women_cum | injured_cum | ext_injured | ext_injured_cum | ext_civdef_killed_cum | med_killed_cum | ext_med_killed_cum | press_killed_cum | ext_press_killed_cum\n",
       "2023-10-07  | mohtel        | 24            | 0                 | 232    | 232        | 232        | 232            | 0                       | 0                    | 1610        | 1610        | 1610            | 0                     | 6              | 6                  | 1                | 1\n",
       "2023-10-08  | mohtel        | 24            | 0                 | 138    | 370        | 138        | 370            | 78                      | 41                   | 1788        | 178         | 1788            | 0                     | nan            | 6                  | 1                | 1\n",
       "2023-10-09  | mohtel        | 24            | 8                 | 190    | 560        | 190        | 560            | 91                      | 61                   | 2271        | 483         | 2271            | 0                     | 6              | 6                  | 3                | 3\n",
       "2023-10-10  | mohtel        | 24            | 8                 | 340    | 900        | 340        | 900            | 260                     | 230                  | 4000        | 1729        | 4000            | 0                     | nan            | 6                  | 7                | 7\n",
       "2023-10-11  | gmotel        | 24            | 23                | 200    | 1100       | 200        | 1100           | 398                     | 230                  | 5184        | 1184        | 5184            | 0                     | 10             | 10                 | nan              | 7\n",
       "2023-10-12  | mohtel        | 24            | 23                | 317    | 1417       | 317        | 1417           | 500                     | 276                  | 5763        | 579         | 5763            | 0                     | 11             | 11                 | nan              | 7\n",
       "2023-10-13  | missing       | 24            | 23                | 483    | 1900       | 483        | 1900           | 500                     | 392                  | nan         | 1475        | 7238            | 0                     | 11             | 11                 | nan              | 7\n",
       "2023-10-14  | gmotel        | 24            | 23                | 328    | 2228       | 328        | 2228           | 600                     | 600                  | 8714        | 1476        | 8714            | 0                     | 11             | 11                 | nan              | 7\n",
       "2023-10-15  | gmotel        | 24            | 23                | 442    | 2670       | 442        | 2670           | 700                     | 735                  | 9200        | 486         | 9200            | 0                     | nan            | 11                 | nan              | 7\n",
       "2023-10-16  | gmotel        | 24            | 371               | 138    | 2808       | 138        | 2808           | 853                     | 936                  | 10850       | 1650        | 10850           | 7                     | 37             | 37                 | nan              | 7\n",
       "... (541 rows omitted)"
      ]
     },
     "execution_count": 35,
     "metadata": {},
     "output_type": "execute_result"
    }
   ],
   "source": [
    "gaza_daiy_casualties = Table.read_table('casualties_daily_gaza_2025-04-12.csv')\n",
    "gaza_daiy_casualties"
   ]
  },
  {
   "cell_type": "code",
   "execution_count": 33,
   "id": "c8b4322f-5ce8-47e3-9323-dac6f6b91f46",
   "metadata": {},
   "outputs": [
    {
     "data": {
      "text/html": [
       "<table border=\"1\" class=\"dataframe\">\n",
       "    <thead>\n",
       "        <tr>\n",
       "            <th>report_date</th> <th>verified.killed</th> <th>verified.killed_cum</th> <th>verified.injured</th> <th>verified.injured_cum</th> <th>verified.killed_children</th> <th>verified.killed_children_cum</th> <th>verified.injured_children</th> <th>verified.injured_children_cum</th> <th>killed_cum</th> <th>killed_children_cum</th> <th>injured_cum</th> <th>injured_children_cum</th> <th>settler_attacks_cum</th> <th>flash_source</th>\n",
       "        </tr>\n",
       "    </thead>\n",
       "    <tbody>\n",
       "        <tr>\n",
       "            <td>2023-10-07 </td> <td>6              </td> <td>6                  </td> <td>197             </td> <td>197                 </td> <td>2                       </td> <td>2                           </td> <td>31                       </td> <td>31                           </td> <td>3         </td> <td>0                  </td> <td>23         </td> <td>1                   </td> <td>3                  </td> <td>un          </td>\n",
       "        </tr>\n",
       "        <tr>\n",
       "            <td>2023-10-08 </td> <td>8              </td> <td>14                 </td> <td>127             </td> <td>324                 </td> <td>3                       </td> <td>5                           </td> <td>7                        </td> <td>38                           </td> <td>13        </td> <td>1                  </td> <td>194        </td> <td>1                   </td> <td>9                  </td> <td>un          </td>\n",
       "        </tr>\n",
       "        <tr>\n",
       "            <td>2023-10-09 </td> <td>4              </td> <td>18                 </td> <td>88              </td> <td>412                 </td> <td>0                       </td> <td>5                           </td> <td>19                       </td> <td>57                           </td> <td>15        </td> <td>3                  </td> <td>295        </td> <td>34                  </td> <td>19                 </td> <td>un          </td>\n",
       "        </tr>\n",
       "        <tr>\n",
       "            <td>2023-10-10 </td> <td>5              </td> <td>23                 </td> <td>72              </td> <td>484                 </td> <td>0                       </td> <td>5                           </td> <td>7                        </td> <td>64                           </td> <td>19        </td> <td>3                  </td> <td>332        </td> <td>39                  </td> <td>29                 </td> <td>un          </td>\n",
       "        </tr>\n",
       "        <tr>\n",
       "            <td>2023-10-11 </td> <td>6              </td> <td>29                 </td> <td>85              </td> <td>569                 </td> <td>2                       </td> <td>7                           </td> <td>17                       </td> <td>81                           </td> <td>26        </td> <td>3                  </td> <td>427        </td> <td>62                  </td> <td>39                 </td> <td>un          </td>\n",
       "        </tr>\n",
       "        <tr>\n",
       "            <td>2023-10-12 </td> <td>7              </td> <td>36                 </td> <td>49              </td> <td>618                 </td> <td>0                       </td> <td>7                           </td> <td>11                       </td> <td>92                           </td> <td>33        </td> <td>5                  </td> <td>500        </td> <td>81                  </td> <td>49                 </td> <td>un          </td>\n",
       "        </tr>\n",
       "        <tr>\n",
       "            <td>2023-10-13 </td> <td>17             </td> <td>53                 </td> <td>613             </td> <td>1231                </td> <td>6                       </td> <td>13                          </td> <td>27                       </td> <td>119                          </td> <td>43        </td> <td>8                  </td> <td>700        </td> <td>92                  </td> <td>63                 </td> <td>un          </td>\n",
       "        </tr>\n",
       "        <tr>\n",
       "            <td>2023-10-14 </td> <td>3              </td> <td>56                 </td> <td>13              </td> <td>1244                </td> <td>2                       </td> <td>15                          </td> <td>1                        </td> <td>120                          </td> <td>54        </td> <td>13                 </td> <td>1150       </td> <td>106                 </td> <td>67                 </td> <td>un          </td>\n",
       "        </tr>\n",
       "        <tr>\n",
       "            <td>2023-10-15 </td> <td>2              </td> <td>58                 </td> <td>18              </td> <td>1262                </td> <td>1                       </td> <td>16                          </td> <td>2                        </td> <td>122                          </td> <td>61        </td> <td>15                 </td> <td>1173       </td> <td>113                 </td> <td>70                 </td> <td>un          </td>\n",
       "        </tr>\n",
       "        <tr>\n",
       "            <td>2023-10-16 </td> <td>2              </td> <td>60                 </td> <td>23              </td> <td>1285                </td> <td>0                       </td> <td>16                          </td> <td>0                        </td> <td>122                          </td> <td>61        </td> <td>15                 </td> <td>1176       </td> <td>113                 </td> <td>70                 </td> <td>un          </td>\n",
       "        </tr>\n",
       "    </tbody>\n",
       "</table>\n",
       "<p>... (541 rows omitted)</p>"
      ],
      "text/plain": [
       "report_date | verified.killed | verified.killed_cum | verified.injured | verified.injured_cum | verified.killed_children | verified.killed_children_cum | verified.injured_children | verified.injured_children_cum | killed_cum | killed_children_cum | injured_cum | injured_children_cum | settler_attacks_cum | flash_source\n",
       "2023-10-07  | 6               | 6                   | 197              | 197                  | 2                        | 2                            | 31                        | 31                            | 3          | 0                   | 23          | 1                    | 3                   | un\n",
       "2023-10-08  | 8               | 14                  | 127              | 324                  | 3                        | 5                            | 7                         | 38                            | 13         | 1                   | 194         | 1                    | 9                   | un\n",
       "2023-10-09  | 4               | 18                  | 88               | 412                  | 0                        | 5                            | 19                        | 57                            | 15         | 3                   | 295         | 34                   | 19                  | un\n",
       "2023-10-10  | 5               | 23                  | 72               | 484                  | 0                        | 5                            | 7                         | 64                            | 19         | 3                   | 332         | 39                   | 29                  | un\n",
       "2023-10-11  | 6               | 29                  | 85               | 569                  | 2                        | 7                            | 17                        | 81                            | 26         | 3                   | 427         | 62                   | 39                  | un\n",
       "2023-10-12  | 7               | 36                  | 49               | 618                  | 0                        | 7                            | 11                        | 92                            | 33         | 5                   | 500         | 81                   | 49                  | un\n",
       "2023-10-13  | 17              | 53                  | 613              | 1231                 | 6                        | 13                           | 27                        | 119                           | 43         | 8                   | 700         | 92                   | 63                  | un\n",
       "2023-10-14  | 3               | 56                  | 13               | 1244                 | 2                        | 15                           | 1                         | 120                           | 54         | 13                  | 1150        | 106                  | 67                  | un\n",
       "2023-10-15  | 2               | 58                  | 18               | 1262                 | 1                        | 16                           | 2                         | 122                           | 61         | 15                  | 1173        | 113                  | 70                  | un\n",
       "2023-10-16  | 2               | 60                  | 23               | 1285                 | 0                        | 16                           | 0                         | 122                           | 61         | 15                  | 1176        | 113                  | 70                  | un\n",
       "... (541 rows omitted)"
      ]
     },
     "execution_count": 33,
     "metadata": {},
     "output_type": "execute_result"
    }
   ],
   "source": [
    "west_bank_daiy_casualties = Table.read_table('casualties_daily_west_bank_2025-04-12.csv')\n",
    "west_bank_daiy_casualties"
   ]
  },
  {
   "cell_type": "code",
   "execution_count": 7,
   "id": "f1673435-eecd-4dd0-b2e0-e353a8867bf5",
   "metadata": {},
   "outputs": [
    {
     "data": {
      "text/html": [
       "<table border=\"1\" class=\"dataframe\">\n",
       "    <thead>\n",
       "        <tr>\n",
       "            <th>Index</th> <th>Name</th> <th>Arabic name</th> <th>Born</th> <th>Age</th> <th>Sex</th> <th>ID number</th>\n",
       "        </tr>\n",
       "    </thead>\n",
       "    <tbody>\n",
       "        <tr>\n",
       "            <td>1    </td> <td>Mohammed Hani Mohammed Al-Zahhar</td> <td>محمد هاني محمد الزهار    </td> <td>8/9/2023  </td> <td>0   </td> <td>m   </td> <td>444196471</td>\n",
       "        </tr>\n",
       "        <tr>\n",
       "            <td>2    </td> <td>Nour Mohammed Aed Udwan         </td> <td>نور محمد عائد عدوان      </td> <td>2/27/2023 </td> <td>0   </td> <td>f   </td> <td>444484729</td>\n",
       "        </tr>\n",
       "        <tr>\n",
       "            <td>3    </td> <td>Khaled Mumin Amin Shabir        </td> <td>خالد مؤمن ام6 شبير       </td> <td>4/16/2023 </td> <td>0   </td> <td>m   </td> <td>444799647</td>\n",
       "        </tr>\n",
       "        <tr>\n",
       "            <td>4    </td> <td>Yamen Ibrahim Farid Qaddoura    </td> <td>يامن ابراهيم فريد قدوره  </td> <td>6/10/2023 </td> <td>0   </td> <td>m   </td> <td>445958408</td>\n",
       "        </tr>\n",
       "        <tr>\n",
       "            <td>5    </td> <td>Ahmed Rami Ahmed Abdel Qadir    </td> <td>أحمد رامي أحمد عبد القادر</td> <td>12/22/2022</td> <td>0   </td> <td>m   </td> <td>445808546</td>\n",
       "        </tr>\n",
       "        <tr>\n",
       "            <td>6    </td> <td>Houriya Ahmed Imran Ghaben      </td> <td>حورية أحمد عمران غD      </td> <td>4/10/2023 </td> <td>0   </td> <td>f   </td> <td>445639958</td>\n",
       "        </tr>\n",
       "        <tr>\n",
       "            <td>7    </td> <td>Zain Mohammed Khaled Al-Houbi   </td> <td>زين محمد خالد الهوبي     </td> <td>5/23/2023 </td> <td>0   </td> <td>m   </td> <td>444489579</td>\n",
       "        </tr>\n",
       "        <tr>\n",
       "            <td>8    </td> <td>Rakan Mumin Mousa Rabie         </td> <td>ركان مؤمن موسي ربيع      </td> <td>9/29/2023 </td> <td>0   </td> <td>m   </td> <td>444466494</td>\n",
       "        </tr>\n",
       "        <tr>\n",
       "            <td>9    </td> <td>Taysir Mohammed Taysir Al-Hassi </td> <td>تيسير محمد تيسير الهسي   </td> <td>2/19/2023 </td> <td>0   </td> <td>m   </td> <td>444496053</td>\n",
       "        </tr>\n",
       "        <tr>\n",
       "            <td>10   </td> <td>Kenan Akram Samih Karim         </td> <td>كنان اكرم سميح كريم      </td> <td>8/5/2023  </td> <td>0   </td> <td>m   </td> <td>445362098</td>\n",
       "        </tr>\n",
       "    </tbody>\n",
       "</table>\n",
       "<p>... (50010 rows omitted)</p>"
      ],
      "text/plain": [
       "Index | Name                             | Arabic name               | Born       | Age  | Sex  | ID number\n",
       "1     | Mohammed Hani Mohammed Al-Zahhar | محمد هاني محمد الزهار     | 8/9/2023   | 0    | m    | 444196471\n",
       "2     | Nour Mohammed Aed Udwan          | نور محمد عائد عدوان       | 2/27/2023  | 0    | f    | 444484729\n",
       "3     | Khaled Mumin Amin Shabir         | خالد مؤمن ام6 شبير        | 4/16/2023  | 0    | m    | 444799647\n",
       "4     | Yamen Ibrahim Farid Qaddoura     | يامن ابراهيم فريد قدوره   | 6/10/2023  | 0    | m    | 445958408\n",
       "5     | Ahmed Rami Ahmed Abdel Qadir     | أحمد رامي أحمد عبد القادر | 12/22/2022 | 0    | m    | 445808546\n",
       "6     | Houriya Ahmed Imran Ghaben       | حورية أحمد عمران غD       | 4/10/2023  | 0    | f    | 445639958\n",
       "7     | Zain Mohammed Khaled Al-Houbi    | زين محمد خالد الهوبي      | 5/23/2023  | 0    | m    | 444489579\n",
       "8     | Rakan Mumin Mousa Rabie          | ركان مؤمن موسي ربيع       | 9/29/2023  | 0    | m    | 444466494\n",
       "9     | Taysir Mohammed Taysir Al-Hassi  | تيسير محمد تيسير الهسي    | 2/19/2023  | 0    | m    | 444496053\n",
       "10    | Kenan Akram Samih Karim          | كنان اكرم سميح كريم       | 8/5/2023   | 0    | m    | 445362098\n",
       "... (50010 rows omitted)"
      ]
     },
     "execution_count": 7,
     "metadata": {},
     "output_type": "execute_result"
    }
   ],
   "source": [
    "killed_in_gaza = Table.read_table('killed-in-gaza.csv').relabeled(2,'Arabic name')\n",
    "killed_in_gaza"
   ]
  },
  {
   "cell_type": "code",
   "execution_count": 19,
   "id": "9f6882b2-6aa6-4fd4-aa51-2fceddeb5dba",
   "metadata": {},
   "outputs": [
    {
     "data": {
      "text/html": [
       "<table border=\"1\" class=\"dataframe\">\n",
       "    <thead>\n",
       "        <tr>\n",
       "            <th>report_date</th> <th>civic_buildings__destroyed</th> <th>civic_buildings__ext_destroyed</th> <th>educational_buildings__destroyed</th> <th>educational_buildings__ext_destroyed</th> <th>educational_buildings__damaged</th> <th>educational_buildings__ext_damaged</th> <th>places_of_worship__mosques_destroyed</th> <th>places_of_worship__ext_mosques_destroyed</th> <th>places_of_worship__mosques_damaged</th> <th>places_of_worship__ext_mosques_damaged</th> <th>places_of_worship__churches_destroyed</th> <th>places_of_worship__ext_churches_destroyed</th> <th>residential__destroyed</th> <th>residential__ext_destroyed</th>\n",
       "        </tr>\n",
       "    </thead>\n",
       "    <tbody>\n",
       "        <tr>\n",
       "            <td>2023-10-07 </td> <td>nan                       </td> <td>5                             </td> <td>nan                             </td> <td>1                                   </td> <td>nan                           </td> <td>15                                </td> <td>nan                                 </td> <td>2                                       </td> <td>nan                               </td> <td>4                                     </td> <td>nan                                  </td> <td>0                                        </td> <td>nan                   </td> <td>80                        </td>\n",
       "        </tr>\n",
       "        <tr>\n",
       "            <td>2023-10-08 </td> <td>nan                       </td> <td>11                            </td> <td>nan                             </td> <td>1                                   </td> <td>nan                           </td> <td>30                                </td> <td>nan                                 </td> <td>4                                       </td> <td>nan                               </td> <td>8                                     </td> <td>nan                                  </td> <td>0                                        </td> <td>159                   </td> <td>159                       </td>\n",
       "        </tr>\n",
       "        <tr>\n",
       "            <td>2023-10-09 </td> <td>nan                       </td> <td>16                            </td> <td>nan                             </td> <td>2                                   </td> <td>nan                           </td> <td>45                                </td> <td>nan                                 </td> <td>6                                       </td> <td>nan                               </td> <td>12                                    </td> <td>nan                                  </td> <td>0                                        </td> <td>790                   </td> <td>790                       </td>\n",
       "        </tr>\n",
       "        <tr>\n",
       "            <td>2023-10-10 </td> <td>nan                       </td> <td>22                            </td> <td>nan                             </td> <td>2                                   </td> <td>nan                           </td> <td>60                                </td> <td>nan                                 </td> <td>8                                       </td> <td>nan                               </td> <td>17                                    </td> <td>nan                                  </td> <td>0                                        </td> <td>1009                  </td> <td>1009                      </td>\n",
       "        </tr>\n",
       "        <tr>\n",
       "            <td>2023-10-11 </td> <td>27                        </td> <td>27                            </td> <td>3                               </td> <td>3                                   </td> <td>75                            </td> <td>75                                </td> <td>10                                  </td> <td>10                                      </td> <td>nan                               </td> <td>21                                    </td> <td>nan                                  </td> <td>0                                        </td> <td>2835                  </td> <td>2835                      </td>\n",
       "        </tr>\n",
       "        <tr>\n",
       "            <td>2023-10-12 </td> <td>nan                       </td> <td>29                            </td> <td>3                               </td> <td>3                                   </td> <td>75                            </td> <td>75                                </td> <td>10                                  </td> <td>10                                      </td> <td>nan                               </td> <td>25                                    </td> <td>nan                                  </td> <td>0                                        </td> <td>nan                   </td> <td>4188                      </td>\n",
       "        </tr>\n",
       "        <tr>\n",
       "            <td>2023-10-13 </td> <td>nan                       </td> <td>31                            </td> <td>nan                             </td> <td>9                                   </td> <td>nan                           </td> <td>100                               </td> <td>nan                                 </td> <td>12                                      </td> <td>nan                               </td> <td>29                                    </td> <td>nan                                  </td> <td>0                                        </td> <td>5540                  </td> <td>5540                      </td>\n",
       "        </tr>\n",
       "        <tr>\n",
       "            <td>2023-10-14 </td> <td>nan                       </td> <td>33                            </td> <td>14                              </td> <td>14                                  </td> <td>124                           </td> <td>124                               </td> <td>nan                                 </td> <td>14                                      </td> <td>nan                               </td> <td>33                                    </td> <td>nan                                  </td> <td>0                                        </td> <td>7000                  </td> <td>7000                      </td>\n",
       "        </tr>\n",
       "        <tr>\n",
       "            <td>2023-10-15 </td> <td>nan                       </td> <td>35                            </td> <td>14                              </td> <td>14                                  </td> <td>143                           </td> <td>143                               </td> <td>nan                                 </td> <td>16                                      </td> <td>nan                               </td> <td>37                                    </td> <td>nan                                  </td> <td>0                                        </td> <td>8840                  </td> <td>8840                      </td>\n",
       "        </tr>\n",
       "        <tr>\n",
       "            <td>2023-10-16 </td> <td>nan                       </td> <td>37                            </td> <td>18                              </td> <td>18                                  </td> <td>150                           </td> <td>150                               </td> <td>nan                                 </td> <td>18                                      </td> <td>nan                               </td> <td>41                                    </td> <td>nan                                  </td> <td>1                                        </td> <td>10500                 </td> <td>10500                     </td>\n",
       "        </tr>\n",
       "    </tbody>\n",
       "</table>\n",
       "<p>... (524 rows omitted)</p>"
      ],
      "text/plain": [
       "report_date | civic_buildings__destroyed | civic_buildings__ext_destroyed | educational_buildings__destroyed | educational_buildings__ext_destroyed | educational_buildings__damaged | educational_buildings__ext_damaged | places_of_worship__mosques_destroyed | places_of_worship__ext_mosques_destroyed | places_of_worship__mosques_damaged | places_of_worship__ext_mosques_damaged | places_of_worship__churches_destroyed | places_of_worship__ext_churches_destroyed | residential__destroyed | residential__ext_destroyed\n",
       "2023-10-07  | nan                        | 5                              | nan                              | 1                                    | nan                            | 15                                 | nan                                  | 2                                        | nan                                | 4                                      | nan                                   | 0                                         | nan                    | 80\n",
       "2023-10-08  | nan                        | 11                             | nan                              | 1                                    | nan                            | 30                                 | nan                                  | 4                                        | nan                                | 8                                      | nan                                   | 0                                         | 159                    | 159\n",
       "2023-10-09  | nan                        | 16                             | nan                              | 2                                    | nan                            | 45                                 | nan                                  | 6                                        | nan                                | 12                                     | nan                                   | 0                                         | 790                    | 790\n",
       "2023-10-10  | nan                        | 22                             | nan                              | 2                                    | nan                            | 60                                 | nan                                  | 8                                        | nan                                | 17                                     | nan                                   | 0                                         | 1009                   | 1009\n",
       "2023-10-11  | 27                         | 27                             | 3                                | 3                                    | 75                             | 75                                 | 10                                   | 10                                       | nan                                | 21                                     | nan                                   | 0                                         | 2835                   | 2835\n",
       "2023-10-12  | nan                        | 29                             | 3                                | 3                                    | 75                             | 75                                 | 10                                   | 10                                       | nan                                | 25                                     | nan                                   | 0                                         | nan                    | 4188\n",
       "2023-10-13  | nan                        | 31                             | nan                              | 9                                    | nan                            | 100                                | nan                                  | 12                                       | nan                                | 29                                     | nan                                   | 0                                         | 5540                   | 5540\n",
       "2023-10-14  | nan                        | 33                             | 14                               | 14                                   | 124                            | 124                                | nan                                  | 14                                       | nan                                | 33                                     | nan                                   | 0                                         | 7000                   | 7000\n",
       "2023-10-15  | nan                        | 35                             | 14                               | 14                                   | 143                            | 143                                | nan                                  | 16                                       | nan                                | 37                                     | nan                                   | 0                                         | 8840                   | 8840\n",
       "2023-10-16  | nan                        | 37                             | 18                               | 18                                   | 150                            | 150                                | nan                                  | 18                                       | nan                                | 41                                     | nan                                   | 1                                         | 10500                  | 10500\n",
       "... (524 rows omitted)"
      ]
     },
     "execution_count": 19,
     "metadata": {},
     "output_type": "execute_result"
    }
   ],
   "source": [
    "infrastructure_damaged = Table.read_table('infrastructure-damaged.csv')\n",
    "infrastructure_damaged"
   ]
  }
 ],
 "metadata": {
  "kernelspec": {
   "display_name": "Python 3 (ipykernel)",
   "language": "python",
   "name": "python3"
  },
  "language_info": {
   "codemirror_mode": {
    "name": "ipython",
    "version": 3
   },
   "file_extension": ".py",
   "mimetype": "text/x-python",
   "name": "python",
   "nbconvert_exporter": "python",
   "pygments_lexer": "ipython3",
   "version": "3.12.3"
  }
 },
 "nbformat": 4,
 "nbformat_minor": 5
}
